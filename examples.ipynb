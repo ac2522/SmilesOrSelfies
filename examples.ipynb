{
 "cells": [
  {
   "cell_type": "markdown",
   "id": "b3959832",
   "metadata": {},
   "source": [
    "# Conversion"
   ]
  },
  {
   "cell_type": "code",
   "execution_count": null,
   "id": "721f0615",
   "metadata": {},
   "outputs": [],
   "source": [
    "from utils.conversion import smilesToInchI, smilesToDeepSmiles, smilesToSelfies\n",
    "\n",
    "for convert in [smilesToInchI, smilesToDeepSmiles, smilesToSelfies]:\n",
    "    print(convert(\"N1C(C)(C)C(=NN(C)C1=O)c1ccccc1\"))"
   ]
  },
  {
   "cell_type": "markdown",
   "id": "dfda96c9",
   "metadata": {},
   "source": [
    "# Drawing molecules in notebook"
   ]
  },
  {
   "cell_type": "code",
   "execution_count": null,
   "id": "8d017906",
   "metadata": {},
   "outputs": [],
   "source": [
    "from utils.visualize import drawSmiles\n",
    "drawSmiles(\"C N ( C ) C ( = S ) S S C ( = S ) N ( C ) C . O = S ( = O ) ( O ) O > O = O\")"
   ]
  },
  {
   "cell_type": "code",
   "execution_count": null,
   "id": "47a4b80e",
   "metadata": {},
   "outputs": [],
   "source": [
    "from random import randint\n",
    "rand = randint(0, 10000)\n",
    "\n",
    "with open(\"../data/STEREO/tgt-test\", \"r\") as file:\n",
    "    tgt = file.readLines()[rand]\n",
    "\n",
    "with open(\"../data/STEREO/src-test\", \"r\") as file:\n",
    "    src = file.readLines()[rand]\n",
    "\n",
    "drawSmiles(src + \" > \" + tgt)"
   ]
  },
  {
   "cell_type": "markdown",
   "id": "fa8b9f22",
   "metadata": {},
   "source": [
    "# Saving molecules to png"
   ]
  },
  {
   "cell_type": "code",
   "execution_count": null,
   "id": "dfc1e2fd",
   "metadata": {},
   "outputs": [],
   "source": [
    "from utils.visualize import smilesToPng\n",
    "from utils.conversion import selfiesToSmiles\n",
    "smilesToPng(\"[Li][C][C][=C][Branch1][Ring1][O][C][C][=C][C][=C][C][=C][Ring1][=Branch1][Ring1][O]\",\n",
    "           \"example_selfies_visualized.png\", (300, 300))"
   ]
  },
  {
   "cell_type": "markdown",
   "id": "0ec1a608",
   "metadata": {},
   "source": [
    "# Plotting accuracy of different representations"
   ]
  },
  {
   "cell_type": "code",
   "execution_count": 15,
   "id": "348b8d75",
   "metadata": {},
   "outputs": [
    {
     "name": "stdout",
     "output_type": "stream",
     "text": [
      "DeepSMILES canonDeepSmiles\n",
      "SMILES canonSMILES\n",
      "SMILES_aug canonSMILES\n",
      "SELFIES canonSelfies\n"
     ]
    }
   ],
   "source": [
    "from score import canonDeepSmiles, canonSMILES, canonSelfies, inferenceAnalysis\n",
    "\n",
    "canons = [canonDeepSmiles, canonSMILES, canonSMILES, canonSelfies]\n",
    "langs = [\"DeepSMILES\", \"SMILES\", \"SMILES_aug\", \"SELFIES\"]\n",
    "ns = [1, 3, 5, 10]\n",
    "\n",
    "accuracies = []\n",
    "errors = []\n",
    "\n",
    "for canon, lang in zip(canon, langs):\n",
    "    acc, err = inferenceAnalysis(f'../data/{lang}/test_results.txt', '../data/{lang}/tgt-test.txt',\n",
    "                                 10, canon, ns, verbose=3)\n",
    "    accuracies.append(acc)\n",
    "    errors.append(err)"
   ]
  },
  {
   "cell_type": "code",
   "execution_count": null,
   "id": "220a3587",
   "metadata": {},
   "outputs": [],
   "source": [
    "import pandas as pd\n",
    "import matplotlib.pyplot as plt\n",
    "\n",
    "df = pd.DataFrame(accuracies, index=langs, columns=ns)\n",
    "\n",
    "df = df.T\n",
    "\n",
    "plt.figure();\n",
    "\n",
    "df.plot(xlabel=\"n_best\", ylabel=\"Accuracy (%)\",title=\"Accuracy of n_best Predictions for USPTO_STEREO Test Set\")"
   ]
  }
 ],
 "metadata": {
  "kernelspec": {
   "display_name": "Python 3",
   "language": "python",
   "name": "python3"
  },
  "language_info": {
   "codemirror_mode": {
    "name": "ipython",
    "version": 3
   },
   "file_extension": ".py",
   "mimetype": "text/x-python",
   "name": "python",
   "nbconvert_exporter": "python",
   "pygments_lexer": "ipython3",
   "version": "3.6.13"
  }
 },
 "nbformat": 4,
 "nbformat_minor": 5
}
